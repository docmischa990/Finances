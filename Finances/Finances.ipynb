{
 "cells": [
  {
   "cell_type": "code",
   "execution_count": 13,
   "id": "a2a00ed3-5d04-4b76-86a3-6939cf438964",
   "metadata": {},
   "outputs": [
    {
     "name": "stdin",
     "output_type": "stream",
     "text": [
      "\n",
      "Which command would you like to run? Options: ask_name, expenses, savings, simple_interest, compound_interest, exit\n",
      " expenses\n",
      "How many expenses do you have?  3\n",
      "Enter expense 1:  100\n",
      "Enter expense 2:  300\n",
      "Enter expense 3:  500.80\n"
     ]
    },
    {
     "name": "stdout",
     "output_type": "stream",
     "text": [
      "Total expenses: £900.80\n"
     ]
    },
    {
     "name": "stdin",
     "output_type": "stream",
     "text": [
      "\n",
      "Which command would you like to run? Options: ask_name, expenses, savings, simple_interest, compound_interest, exit\n",
      " savings\n",
      "What is your total income?  1500000\n",
      "What are your total expenses?  50000\n"
     ]
    },
    {
     "name": "stdout",
     "output_type": "stream",
     "text": [
      "Total savings: £1450000.00\n"
     ]
    },
    {
     "name": "stdin",
     "output_type": "stream",
     "text": [
      "\n",
      "Which command would you like to run? Options: ask_name, expenses, savings, simple_interest, compound_interest, exit\n",
      " exit\n"
     ]
    },
    {
     "name": "stdout",
     "output_type": "stream",
     "text": [
      "Exiting the program.\n"
     ]
    }
   ],
   "source": [
    "def ask_name():\n",
    "    name = input(\"What is your name? \").capitalize()\n",
    "    return name\n",
    "\n",
    "\n",
    "\"\"\"Returning the sum value of expenses\"\"\"\n",
    "def calculate_expenses(expenses):\n",
    "    sum_total = sum(expenses)\n",
    "    return sum_total\n",
    "\n",
    "\n",
    "def calculate_savings(income, expenses):\n",
    "    \"\"\"Subtracts expenses from income to calculate savings\"\"\"\n",
    "    savings = income - expenses\n",
    "    return f\"Total savings: £{savings:.2f}\"\n",
    "\n",
    "\n",
    "def simple_interest(principal, rate, time):\n",
    "    \"\"\"Calculates simple interest on a principal over time at a given rate\"\"\"\n",
    "    interest = principal * (rate / 100) * time\n",
    "    return f\"Simple interest: £{interest:.2f}\"\n",
    "\n",
    "\n",
    "def compound_interest(principal, rate, times_compounded, years):\n",
    "    \"\"\"Calculates compound interest\"\"\"\n",
    "    amount = principal * (1 + (rate / 100) / times_compounded) ** (times_compounded * years)\n",
    "    interest = amount - principal\n",
    "    return f\"Compound interest: £{interest:.2f}\"\n",
    "\n",
    "# Start a continuous loop\n",
    "while True:\n",
    "    # Ask for a command\n",
    "    command = input(\"\\nWhich command would you like to run? Options: ask_name, expenses, savings, simple_interest, compound_interest, exit\\n\")\n",
    "\n",
    "    if command == \"expenses\":\n",
    "        num_expenses = int(input(\"How many expenses do you have? \"))\n",
    "        expenses = []\n",
    "        \n",
    "        for i in range(num_expenses):\n",
    "            expense = float(input(f\"Enter expense {i+1}: \"))\n",
    "            expenses.append(expense)\n",
    "        \n",
    "        print(f\"Total expenses: £{calculate_expenses(expenses):.2f}\")\n",
    "    \n",
    "    elif command == \"ask_name\":\n",
    "        print(f\"Hello, {ask_name()}!\")\n",
    "\n",
    "    elif command == \"savings\":\n",
    "        income = float(input(\"What is your total income? \"))\n",
    "        total_expenses = float(input(\"What are your total expenses? \"))\n",
    "        print(calculate_savings(income, total_expenses))\n",
    "\n",
    "    elif command == \"simple_interest\":\n",
    "        principal = float(input(\"Enter the principal amount: \"))\n",
    "        rate = float(input(\"Enter the interest rate (in %): \"))\n",
    "        time = float(input(\"Enter the time (in years): \"))\n",
    "        print(simple_interest(principal, rate, time))\n",
    "\n",
    "    elif command == \"compound_interest\":\n",
    "        principal = float(input(\"Enter the principal amount: \"))\n",
    "        rate = float(input(\"Enter the interest rate (in %): \"))\n",
    "        times_compounded = int(input(\"How many times per year is the interest compounded? \"))\n",
    "        years = int(input(\"Enter the number of years: \"))\n",
    "        print(compound_interest(principal, rate, times_compounded, years))\n",
    "\n",
    "    elif command == \"exit\":\n",
    "        print(\"Exiting the program.\")\n",
    "        break\n",
    "\n",
    "    else:\n",
    "        print(\"Invalid command. Please try again.\")\n"
   ]
  },
  {
   "cell_type": "markdown",
   "id": "1dfc824d-bb75-45c2-a346-3163f544bc10",
   "metadata": {},
   "source": []
  }
 ],
 "metadata": {
  "kernelspec": {
   "display_name": "Python 3 (ipykernel)",
   "language": "python",
   "name": "python3"
  },
  "language_info": {
   "codemirror_mode": {
    "name": "ipython",
    "version": 3
   },
   "file_extension": ".py",
   "mimetype": "text/x-python",
   "name": "python",
   "nbconvert_exporter": "python",
   "pygments_lexer": "ipython3",
   "version": "3.12.4"
  }
 },
 "nbformat": 4,
 "nbformat_minor": 5
}
